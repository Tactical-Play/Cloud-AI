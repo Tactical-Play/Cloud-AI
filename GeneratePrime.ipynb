{
  "nbformat": 4,
  "nbformat_minor": 0,
  "metadata": {
    "colab": {
      "name": "Untitled1.ipynb",
      "provenance": [],
      "authorship_tag": "ABX9TyNGWcESOaELwduBCuE//gpq"
    },
    "kernelspec": {
      "name": "python3",
      "display_name": "Python 3"
    },
    "language_info": {
      "name": "python"
    }
  },
  "cells": [
    {
      "cell_type": "code",
      "execution_count": null,
      "metadata": {
        "id": "656jdhFwT3mJ"
      },
      "outputs": [],
      "source": [
        "class Prime():\n",
        "    def __iter__(self):\n",
        "        self.num=1\n",
        "        return self\n",
        "        \n",
        "    @staticmethod\n",
        "    def checkP(num):\n",
        "        count=0\n",
        "        for i in range(1,num//2+1):\n",
        "            if num%i==0: count+=1\n",
        "        if count>1: return False\n",
        "        else:\n",
        "            return True\n",
        "    def __next__(self):\n",
        "        self.num+=1\n",
        "        while(not(checkP(self.num))):\n",
        "            self.num+=1\n",
        "        return self.num\n"
      ]
    },
    {
      "cell_type": "code",
      "source": [
        "obj=Prime()\n",
        "iter(obj)\n",
        "for i in range(10):\n",
        "    print(next(obj), end=' ')"
      ],
      "metadata": {
        "colab": {
          "base_uri": "https://localhost:8080/"
        },
        "id": "7LCmykr4cyUO",
        "outputId": "95df73d7-7f76-4008-c05c-a5d7ec3f60b4"
      },
      "execution_count": null,
      "outputs": [
        {
          "output_type": "stream",
          "name": "stdout",
          "text": [
            "2 3 5 7 11 13 17 19 23 29 "
          ]
        }
      ]
    }
  ]
}