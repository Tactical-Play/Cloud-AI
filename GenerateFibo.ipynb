{
  "nbformat": 4,
  "nbformat_minor": 0,
  "metadata": {
    "colab": {
      "name": "Untitled1.ipynb",
      "provenance": [],
      "authorship_tag": "ABX9TyMRfs1Ybfac+uBOHuFHw+xn"
    },
    "kernelspec": {
      "name": "python3",
      "display_name": "Python 3"
    },
    "language_info": {
      "name": "python"
    }
  },
  "cells": [
    {
      "cell_type": "code",
      "execution_count": 5,
      "metadata": {
        "id": "656jdhFwT3mJ"
      },
      "outputs": [],
      "source": [
        "class Fibo():\n",
        "    def __iter__(self):\n",
        "        self.n1=-1\n",
        "        self.n2=1\n",
        "        return self\n",
        "  \n",
        "    def __next__(self):\n",
        "        self.n3=self.n1+self.n2\n",
        "        self.n1=self.n2\n",
        "        self.n2=self.n3\n",
        "        return self.n3\n"
      ]
    },
    {
      "cell_type": "code",
      "source": [
        "obj=Fibo()\n",
        "iter(obj)\n",
        "for i in range(10):\n",
        "    print(next(obj), end=' ')"
      ],
      "metadata": {
        "colab": {
          "base_uri": "https://localhost:8080/"
        },
        "id": "7LCmykr4cyUO",
        "outputId": "0423cff3-2060-46ff-dc56-016ed864530e"
      },
      "execution_count": 6,
      "outputs": [
        {
          "output_type": "stream",
          "name": "stdout",
          "text": [
            "0 1 1 2 3 5 8 13 21 34 "
          ]
        }
      ]
    }
  ]
}